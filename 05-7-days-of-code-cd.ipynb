{
 "cells": [
  {
   "cell_type": "markdown",
   "metadata": {},
   "source": [
    "#Dia 5 - Desenvolvendo API"
   ]
  },
  {
   "cell_type": "code",
   "execution_count": 3,
   "metadata": {},
   "outputs": [],
   "source": [
    "# Importei as bibliotecas necessárias. \n",
    "# Flask cria a conexão e disponibiliza online\n",
    "# pickle carrega o modelo de machine learning\n",
    "\n",
    "import numpy as np\n",
    "from flask import Flask\n",
    "import pickle\n",
    "import pandas as pd\n",
    "import requests\n",
    "import json"
   ]
  },
  {
   "cell_type": "code",
   "execution_count": 5,
   "metadata": {},
   "outputs": [],
   "source": [
    "# carregando o modelo de machine learning\n",
    "\n",
    "modelo = pickle.load(open('modelo_ptr.pk1','rb'))"
   ]
  },
  {
   "cell_type": "code",
   "execution_count": 11,
   "metadata": {},
   "outputs": [],
   "source": [
    "# Perguntando para quem será recomendado\n",
    "\n",
    "pos = int(input('Para quem recomendar: '))"
   ]
  },
  {
   "cell_type": "code",
   "execution_count": 12,
   "metadata": {},
   "outputs": [
    {
     "name": "stdout",
     "output_type": "stream",
     "text": [
      " * Serving Flask app '__main__'\n",
      " * Debug mode: off\n"
     ]
    },
    {
     "name": "stderr",
     "output_type": "stream",
     "text": [
      "WARNING: This is a development server. Do not use it in a production deployment. Use a production WSGI server instead.\n",
      " * Running on http://127.0.0.1:5000\n",
      "Press CTRL+C to quit\n",
      "127.0.0.1 - - [31/May/2024 19:40:14] \"GET / HTTP/1.1\" 200 -\n",
      "127.0.0.1 - - [31/May/2024 19:40:14] \"GET /favicon.ico HTTP/1.1\" 404 -\n",
      "127.0.0.1 - - [31/May/2024 19:40:27] \"GET / HTTP/1.1\" 200 -\n",
      "[2024-05-31 19:40:39,097] ERROR in app: Exception on /indica [GET]\n",
      "Traceback (most recent call last):\n",
      "  File \"c:\\Users\\patri\\AppData\\Local\\Programs\\Python\\Python311\\Lib\\site-packages\\flask\\app.py\", line 2190, in wsgi_app\n",
      "    response = self.full_dispatch_request()\n",
      "               ^^^^^^^^^^^^^^^^^^^^^^^^^^^^\n",
      "  File \"c:\\Users\\patri\\AppData\\Local\\Programs\\Python\\Python311\\Lib\\site-packages\\flask\\app.py\", line 1486, in full_dispatch_request\n",
      "    rv = self.handle_user_exception(e)\n",
      "         ^^^^^^^^^^^^^^^^^^^^^^^^^^^^^\n",
      "  File \"c:\\Users\\patri\\AppData\\Local\\Programs\\Python\\Python311\\Lib\\site-packages\\flask\\app.py\", line 1484, in full_dispatch_request\n",
      "    rv = self.dispatch_request()\n",
      "         ^^^^^^^^^^^^^^^^^^^^^^^\n",
      "  File \"c:\\Users\\patri\\AppData\\Local\\Programs\\Python\\Python311\\Lib\\site-packages\\flask\\app.py\", line 1469, in dispatch_request\n",
      "    return self.ensure_sync(self.view_functions[rule.endpoint])(**view_args)\n",
      "           ^^^^^^^^^^^^^^^^^^^^^^^^^^^^^^^^^^^^^^^^^^^^^^^^^^^^^^^^^^^^^^^^^\n",
      "  File \"C:\\Users\\patri\\AppData\\Local\\Temp\\ipykernel_30400\\4243282005.py\", line 15, in indica\n",
      "    df = pd.DataFrame(df)\n",
      "         ^^^^^^^^^^^^^^^^\n",
      "  File \"c:\\Users\\patri\\AppData\\Local\\Programs\\Python\\Python311\\Lib\\site-packages\\pandas\\core\\frame.py\", line 709, in __init__\n",
      "    mgr = dict_to_mgr(data, index, columns, dtype=dtype, copy=copy, typ=manager)\n",
      "          ^^^^^^^^^^^^^^^^^^^^^^^^^^^^^^^^^^^^^^^^^^^^^^^^^^^^^^^^^^^^^^^^^^^^^^\n",
      "  File \"c:\\Users\\patri\\AppData\\Local\\Programs\\Python\\Python311\\Lib\\site-packages\\pandas\\core\\internals\\construction.py\", line 481, in dict_to_mgr\n",
      "    return arrays_to_mgr(arrays, columns, index, dtype=dtype, typ=typ, consolidate=copy)\n",
      "           ^^^^^^^^^^^^^^^^^^^^^^^^^^^^^^^^^^^^^^^^^^^^^^^^^^^^^^^^^^^^^^^^^^^^^^^^^^^^^\n",
      "  File \"c:\\Users\\patri\\AppData\\Local\\Programs\\Python\\Python311\\Lib\\site-packages\\pandas\\core\\internals\\construction.py\", line 115, in arrays_to_mgr\n",
      "    index = _extract_index(arrays)\n",
      "            ^^^^^^^^^^^^^^^^^^^^^^\n",
      "  File \"c:\\Users\\patri\\AppData\\Local\\Programs\\Python\\Python311\\Lib\\site-packages\\pandas\\core\\internals\\construction.py\", line 645, in _extract_index\n",
      "    raise ValueError(\"If using all scalar values, you must pass an index\")\n",
      "ValueError: If using all scalar values, you must pass an index\n",
      "127.0.0.1 - - [31/May/2024 19:40:39] \"GET /indica HTTP/1.1\" 500 -\n"
     ]
    }
   ],
   "source": [
    "# Criando a aplicação\n",
    "app = Flask(__name__)\n",
    "\n",
    "# endpoint mostrando que o site está funcionando\n",
    "@app.route('/')\n",
    "def mensagem():\n",
    "    return \"FUNCIONANDO\"\n",
    "\n",
    "# endpoint fazendo a indicação\n",
    "@app.route('/indica')\n",
    "def indica():\n",
    "    # dados salvo na nuvem\n",
    "    df = requests.get('https://recomendacao-95a6d-default-rtdb.firebaseio.com/.json')\n",
    "    df = df.json()\n",
    "    df = pd.DataFrame(df)\n",
    "    recomendacao = df.pivot_table(index='user_id', columns='movie_title', values='rating').fillna(0)\n",
    "    distancia, vizinhos = modelo.kneighbors(recomendacao.iloc[pos].values.reshape(1,-1), n_neighbors=6)\n",
    "    ds_usuario = recomendacao.iloc[pos].to_frame()\n",
    "    vizinhanca = ds_usuario\n",
    "    for i in range(1, 6):\n",
    "        vizinho_prox = recomendacao.index[vizinhos.flatten()[i]]\n",
    "        ds_vizinho = recomendacao.loc[vizinho_prox].to_frame()\n",
    "        vizinhanca = pd.merge(vizinhanca, ds_vizinho[vizinho_prox], on='movie_title')\n",
    "    pos1 = recomendacao.index[vizinhos.flatten()[1]]\n",
    "    pos2 = recomendacao.index[vizinhos.flatten()[2]]\n",
    "    pos3 = recomendacao.index[vizinhos.flatten()[3]]\n",
    "    pos4 = recomendacao.index[vizinhos.flatten()[4]]\n",
    "    pos5 = recomendacao.index[vizinhos.flatten()[5]]\n",
    "    vizinhanca_df = vizinhanca.reset_index()\n",
    "    vizinhanca_df.rename(columns={pos + 1 : 'coluna'}, inplace=True)\n",
    "    vizinhanca_df['SOMA'] = vizinhanca_df[pos1] + vizinhanca_df[pos2] + vizinhanca_df[pos3] + vizinhanca_df[pos4] + vizinhanca_df[pos5]\n",
    "    indicacao = vizinhanca_df.sort_values(by='SOMA', ascending=False)\n",
    "    indicacao.query('coluna == 0')\n",
    "    resposta = str(list(indicacao['movie_title'][:5]))\n",
    "    return resposta\n",
    "\n",
    "if __name__ == \"__main__\":\n",
    "    app.run()"
   ]
  }
 ],
 "metadata": {
  "kernelspec": {
   "display_name": "Python 3",
   "language": "python",
   "name": "python3"
  },
  "language_info": {
   "codemirror_mode": {
    "name": "ipython",
    "version": 3
   },
   "file_extension": ".py",
   "mimetype": "text/x-python",
   "name": "python",
   "nbconvert_exporter": "python",
   "pygments_lexer": "ipython3",
   "version": "3.11.5"
  }
 },
 "nbformat": 4,
 "nbformat_minor": 2
}
